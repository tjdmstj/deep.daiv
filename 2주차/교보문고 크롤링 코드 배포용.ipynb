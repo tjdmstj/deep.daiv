{
 "cells": [
  {
   "cell_type": "code",
   "execution_count": 1,
   "id": "7c461877",
   "metadata": {},
   "outputs": [
    {
     "name": "stdout",
     "output_type": "stream",
     "text": [
      "Requirement already satisfied: selenium in /opt/homebrew/lib/python3.11/site-packages (4.10.0)\n",
      "Requirement already satisfied: urllib3[socks]<3,>=1.26 in /opt/homebrew/lib/python3.11/site-packages (from selenium) (1.26.15)\n",
      "Requirement already satisfied: trio~=0.17 in /opt/homebrew/lib/python3.11/site-packages (from selenium) (0.22.2)\n",
      "Requirement already satisfied: trio-websocket~=0.9 in /opt/homebrew/lib/python3.11/site-packages (from selenium) (0.10.3)\n",
      "Requirement already satisfied: certifi>=2021.10.8 in /opt/homebrew/lib/python3.11/site-packages (from selenium) (2022.12.7)\n",
      "Requirement already satisfied: attrs>=20.1.0 in /opt/homebrew/lib/python3.11/site-packages (from trio~=0.17->selenium) (23.1.0)\n",
      "Requirement already satisfied: sortedcontainers in /opt/homebrew/lib/python3.11/site-packages (from trio~=0.17->selenium) (2.4.0)\n",
      "Requirement already satisfied: idna in /opt/homebrew/lib/python3.11/site-packages (from trio~=0.17->selenium) (3.4)\n",
      "Requirement already satisfied: outcome in /opt/homebrew/lib/python3.11/site-packages (from trio~=0.17->selenium) (1.2.0)\n",
      "Requirement already satisfied: sniffio in /opt/homebrew/lib/python3.11/site-packages (from trio~=0.17->selenium) (1.3.0)\n",
      "Requirement already satisfied: exceptiongroup in /opt/homebrew/lib/python3.11/site-packages (from trio-websocket~=0.9->selenium) (1.1.2)\n",
      "Requirement already satisfied: wsproto>=0.14 in /opt/homebrew/lib/python3.11/site-packages (from trio-websocket~=0.9->selenium) (1.2.0)\n",
      "Requirement already satisfied: PySocks!=1.5.7,<2.0,>=1.5.6 in /opt/homebrew/lib/python3.11/site-packages (from urllib3[socks]<3,>=1.26->selenium) (1.7.1)\n",
      "Requirement already satisfied: h11<1,>=0.9.0 in /opt/homebrew/lib/python3.11/site-packages (from wsproto>=0.14->trio-websocket~=0.9->selenium) (0.14.0)\n",
      "Note: you may need to restart the kernel to use updated packages.\n"
     ]
    }
   ],
   "source": [
    "%pip install selenium"
   ]
  },
  {
   "cell_type": "code",
   "execution_count": 2,
   "id": "c3f6ca94",
   "metadata": {},
   "outputs": [],
   "source": [
    "from selenium import webdriver\n",
    "from bs4 import BeautifulSoup\n",
    "from selenium.webdriver.common.by import By\n",
    "from selenium.webdriver.common.keys import Keys\n",
    "from selenium.webdriver.chrome.service import Service\n",
    "import urllib.request as req\n",
    "from selenium.webdriver.support.select import Select\n",
    "from selenium.webdriver.chrome.options import Options\n",
    "\n",
    "import pandas as pd\n",
    "import numpy as np\n",
    "import time\n",
    "import warnings\n",
    "warnings.filterwarnings('ignore')\n",
    "\n",
    "book_cate = {'소설':'01','시/에세이':'03','인문':'05','경제/경영':'13','자기계발':'15'}\n",
    "# 01 : 소설 , 03 : 시/에세이 , 05 : 인문 , 13 : 경제/경영 , 15 : 자기계발\n",
    "url = 'https://product.kyobobook.co.kr/category/KOR/'+book_cate['인문']+'#?page=1&type=best&per=20'\n",
    "\n",
    "User_Agent = \"Mozilla/5.0 (Windows NT 10.0; Win64; x64) AppleWebKit/537.36 (KHTML, like Gecko) Chrome/95.0.4638.69 Safari/537.36\"\n",
    "chrome_options = Options()\n",
    "chrome_options.add_argument(f\"user-agent={User_Agent }\")\n",
    "\n",
    "driver = webdriver.Chrome(options=chrome_options)\n",
    "driver.get(url)\n",
    "\n",
    "book_titles = list()\n",
    "book_stories = list()\n",
    "book_keyPicks = list()\n",
    "keywordPick = list()\n",
    "book_page_urls = list()\n",
    "\n",
    "\n",
    "for i in range(1,51):\n",
    "    page_links = driver.find_elements(By.CSS_SELECTOR,'#homeTabBest > div.switch_prod_wrap.view_type_list > ol > li > div.prod_area.horizontal > div.prod_info_box > a')\n",
    "    for page_link in page_links:\n",
    "        link = page_link.get_attribute('href')\n",
    "        book_page_urls.append(link)\n",
    "    if i== 50:\n",
    "       break\n",
    "    next_page = driver.find_element(By.CSS_SELECTOR,'#bestBottomPagi > button.btn_page.next')\n",
    "    next_page.send_keys(Keys.ENTER)\n",
    "    time.sleep(3)\n",
    "driver.quit()\n"
   ]
  },
  {
   "cell_type": "code",
   "execution_count": 3,
   "id": "e2c82ab9",
   "metadata": {},
   "outputs": [],
   "source": [
    "#book_titles = list()\n",
    "#book_stories = list()\n",
    "#book_keyPicks = list()"
   ]
  },
  {
   "cell_type": "code",
   "execution_count": 5,
   "id": "c1463a0a",
   "metadata": {},
   "outputs": [],
   "source": [
    "driver = webdriver.Chrome(options=chrome_options)\n",
    "for url in book_page_urls:\n",
    "    try:\n",
    "        driver.get(url)\n",
    "        time.sleep(3)\n",
    "        title = driver.find_element(By.CSS_SELECTOR,'#contents > div.prod_detail_header > div > div.prod_detail_title_wrap > div > div.prod_title_box.auto_overflow_wrap > div.auto_overflow_contents > div > h1 > span')\n",
    "        book_titles.append(title.text)\n",
    "    except:\n",
    "        book_titles.append('나중에 채우기!')\n",
    "\n",
    "    try:\n",
    "        # 키워드 Pick 수집\n",
    "        keywordPicks = driver.find_elements(By.CSS_SELECTOR,'div.tab_list_wrap > ul >li> a > span.tab_text')\n",
    "        keywordPick = list()\n",
    "        for keyword in keywordPicks:\n",
    "            keywordPick.append(keyword.text)\n",
    "        book_keyPicks.append(keywordPick)\n",
    "    except:\n",
    "        book_keyPicks.append([])\n",
    "\n",
    "    try:\n",
    "         # 책 소개 수집\n",
    "        story = driver.find_element(By.CSS_SELECTOR,'div.intro_bottom')\n",
    "        book_stories.append(story.text)\n",
    "    except:\n",
    "        book_stories.append('')\n",
    "        \n",
    "driver.quit()"
   ]
  },
  {
   "cell_type": "code",
   "execution_count": 4,
   "id": "cc2cb5fd",
   "metadata": {},
   "outputs": [
    {
     "data": {
      "text/plain": [
       "1000"
      ]
     },
     "execution_count": 4,
     "metadata": {},
     "output_type": "execute_result"
    }
   ],
   "source": [
    "len(book_page_urls)"
   ]
  },
  {
   "cell_type": "code",
   "execution_count": 6,
   "id": "44c515a8",
   "metadata": {},
   "outputs": [
    {
     "name": "stdout",
     "output_type": "stream",
     "text": [
      "1000\n",
      "1000\n",
      "1000\n"
     ]
    }
   ],
   "source": [
    "print(len(book_titles))\n",
    "print(len(book_stories))\n",
    "print(len(book_keyPicks))"
   ]
  },
  {
   "cell_type": "code",
   "execution_count": 7,
   "id": "f39228f4",
   "metadata": {},
   "outputs": [],
   "source": [
    "book_df = pd.DataFrame([book_titles,book_stories,book_keyPicks],index=['상품명','책소개','키워드']).T\n",
    "def delete_null(keywordList):\n",
    "    keyword_list = list()\n",
    "    for x in range(len(keywordList)):\n",
    "        if keywordList[x] != '':\n",
    "            keyword_list.append(keywordList[x])\n",
    "    return keyword_list\n",
    "book_df['키워드'] = book_df['키워드'].apply(delete_null)\n",
    "\n",
    "book_category = ['소설','시/에세이','인문','경제/경영','자기계발']\n",
    "file_name = book_category[2] + '키워드 Pick.xlsx'\n",
    "book_df.to_excel(file_name)"
   ]
  },
  {
   "cell_type": "code",
   "execution_count": 8,
   "id": "f41974fc",
   "metadata": {},
   "outputs": [
    {
     "data": {
      "text/html": [
       "<div>\n",
       "<style scoped>\n",
       "    .dataframe tbody tr th:only-of-type {\n",
       "        vertical-align: middle;\n",
       "    }\n",
       "\n",
       "    .dataframe tbody tr th {\n",
       "        vertical-align: top;\n",
       "    }\n",
       "\n",
       "    .dataframe thead th {\n",
       "        text-align: right;\n",
       "    }\n",
       "</style>\n",
       "<table border=\"1\" class=\"dataframe\">\n",
       "  <thead>\n",
       "    <tr style=\"text-align: right;\">\n",
       "      <th></th>\n",
       "      <th>상품명</th>\n",
       "      <th>책소개</th>\n",
       "      <th>키워드</th>\n",
       "    </tr>\n",
       "  </thead>\n",
       "  <tbody>\n",
       "    <tr>\n",
       "      <th>0</th>\n",
       "      <td>문과 남자의 과학 공부</td>\n",
       "      <td>과학 공부로 길어 올린 생명과 우주에 관한 진실, 인간과 사회를 이해하는 방법\\n“...</td>\n",
       "      <td>[뇌과학, 양자 역학, 회한, 우주, 문과, 사유]</td>\n",
       "    </tr>\n",
       "    <tr>\n",
       "      <th>1</th>\n",
       "      <td>도둑맞은 집중력</td>\n",
       "      <td>★아마존, 월 스트리트 저널 올해의 책★\\n★애덤 그랜트·수전 케인·힐러리 클린턴 ...</td>\n",
       "      <td>[주의력, 비만, 증가, 유행병, 정크푸드, 테크]</td>\n",
       "    </tr>\n",
       "    <tr>\n",
       "      <th>2</th>\n",
       "      <td>모든 삶은 흐른다</td>\n",
       "      <td>“이 책은 흐르는 삶 속에서 ‘자기 자신’이라는 유일한 섬이 되는 길을 안내한다. ...</td>\n",
       "      <td>[바다, 곡예, 이해인, 레르, 프랑스 최고, 상어]</td>\n",
       "    </tr>\n",
       "    <tr>\n",
       "      <th>3</th>\n",
       "      <td>내면소통</td>\n",
       "      <td>“나와 세상을 바꾸는 힘은 불굴의 의지가 아니라\\n실패를 두려워하지 않는 마음근력에...</td>\n",
       "      <td>[뇌과학, 편도체, 경기력 향상, 뇌 발달, 블랭킷, 선문답]</td>\n",
       "    </tr>\n",
       "    <tr>\n",
       "      <th>4</th>\n",
       "      <td>2023 큰별쌤 최태성의 별별한국사 기출 500제 한국사능력검정시험 심화(1, 2,...</td>\n",
       "      <td>\"2023년 65회 시험부터 2021년 56회 시험까지 최신 기출문제 10회분, 총...</td>\n",
       "      <td>[앞표지, 선택지, 킬러 문항, 열매, 난도, 리더]</td>\n",
       "    </tr>\n",
       "    <tr>\n",
       "      <th>...</th>\n",
       "      <td>...</td>\n",
       "      <td>...</td>\n",
       "      <td>...</td>\n",
       "    </tr>\n",
       "    <tr>\n",
       "      <th>995</th>\n",
       "      <td>표준</td>\n",
       "      <td>제4판 표준 중세 국어 문법론에서는 지난 10년 동안에 나온 중세어 관련 문법 업적...</td>\n",
       "      <td>[품사론, 형태론, 통사론, 표기법, 겹문장, 발음]</td>\n",
       "    </tr>\n",
       "    <tr>\n",
       "      <th>996</th>\n",
       "      <td>삼국지연의보다 재미있는 정사 삼국지 1</td>\n",
       "      <td>20만 구독자가 열광한 화제의 유튜브 역사채널 〈써에이스쇼〉의 삼국지\\n누적 조회 ...</td>\n",
       "      <td>[판타지, 황건적, 유비, 컬러 삽화, 위촉, 실제 역사]</td>\n",
       "    </tr>\n",
       "    <tr>\n",
       "      <th>997</th>\n",
       "      <td>나도 손글씨 바르게 쓰면 소원이 없겠네(핸디 워크북)</td>\n",
       "      <td>아무때나 시간 날 때 틈틈이\\n지하철ㆍ학교ㆍ회사ㆍ카페ㆍ집 어느 장소에서도\\n편하게 ...</td>\n",
       "      <td>[악필, 교정, 원고지, 정자체, 스프링, 지하철]</td>\n",
       "    </tr>\n",
       "    <tr>\n",
       "      <th>998</th>\n",
       "      <td>한자자격시험 7급(교양한자급수시험대비)</td>\n",
       "      <td></td>\n",
       "      <td>[필순, 짜임, 모범 답안, 회분, 기출문제, 연습 문제]</td>\n",
       "    </tr>\n",
       "    <tr>\n",
       "      <th>999</th>\n",
       "      <td>성격의 탄생</td>\n",
       "      <td>내 성격은 어떻게 만들어진 걸까?\\n왜 사람마다 성격이 다를까?\\n성격을 바꿀 수 ...</td>\n",
       "      <td>[과학, 외향성, 유전학, 친화성, 규명, 개인차]</td>\n",
       "    </tr>\n",
       "  </tbody>\n",
       "</table>\n",
       "<p>1000 rows × 3 columns</p>\n",
       "</div>"
      ],
      "text/plain": [
       "                                                   상품명   \n",
       "0                                         문과 남자의 과학 공부  \\\n",
       "1                                             도둑맞은 집중력   \n",
       "2                                            모든 삶은 흐른다   \n",
       "3                                                 내면소통   \n",
       "4    2023 큰별쌤 최태성의 별별한국사 기출 500제 한국사능력검정시험 심화(1, 2,...   \n",
       "..                                                 ...   \n",
       "995                                                 표준   \n",
       "996                              삼국지연의보다 재미있는 정사 삼국지 1   \n",
       "997                      나도 손글씨 바르게 쓰면 소원이 없겠네(핸디 워크북)   \n",
       "998                              한자자격시험 7급(교양한자급수시험대비)   \n",
       "999                                             성격의 탄생   \n",
       "\n",
       "                                                   책소개   \n",
       "0    과학 공부로 길어 올린 생명과 우주에 관한 진실, 인간과 사회를 이해하는 방법\\n“...  \\\n",
       "1    ★아마존, 월 스트리트 저널 올해의 책★\\n★애덤 그랜트·수전 케인·힐러리 클린턴 ...   \n",
       "2    “이 책은 흐르는 삶 속에서 ‘자기 자신’이라는 유일한 섬이 되는 길을 안내한다. ...   \n",
       "3    “나와 세상을 바꾸는 힘은 불굴의 의지가 아니라\\n실패를 두려워하지 않는 마음근력에...   \n",
       "4    \"2023년 65회 시험부터 2021년 56회 시험까지 최신 기출문제 10회분, 총...   \n",
       "..                                                 ...   \n",
       "995  제4판 표준 중세 국어 문법론에서는 지난 10년 동안에 나온 중세어 관련 문법 업적...   \n",
       "996  20만 구독자가 열광한 화제의 유튜브 역사채널 〈써에이스쇼〉의 삼국지\\n누적 조회 ...   \n",
       "997  아무때나 시간 날 때 틈틈이\\n지하철ㆍ학교ㆍ회사ㆍ카페ㆍ집 어느 장소에서도\\n편하게 ...   \n",
       "998                                                      \n",
       "999  내 성격은 어떻게 만들어진 걸까?\\n왜 사람마다 성격이 다를까?\\n성격을 바꿀 수 ...   \n",
       "\n",
       "                                    키워드  \n",
       "0          [뇌과학, 양자 역학, 회한, 우주, 문과, 사유]  \n",
       "1          [주의력, 비만, 증가, 유행병, 정크푸드, 테크]  \n",
       "2         [바다, 곡예, 이해인, 레르, 프랑스 최고, 상어]  \n",
       "3    [뇌과학, 편도체, 경기력 향상, 뇌 발달, 블랭킷, 선문답]  \n",
       "4         [앞표지, 선택지, 킬러 문항, 열매, 난도, 리더]  \n",
       "..                                  ...  \n",
       "995       [품사론, 형태론, 통사론, 표기법, 겹문장, 발음]  \n",
       "996    [판타지, 황건적, 유비, 컬러 삽화, 위촉, 실제 역사]  \n",
       "997        [악필, 교정, 원고지, 정자체, 스프링, 지하철]  \n",
       "998    [필순, 짜임, 모범 답안, 회분, 기출문제, 연습 문제]  \n",
       "999        [과학, 외향성, 유전학, 친화성, 규명, 개인차]  \n",
       "\n",
       "[1000 rows x 3 columns]"
      ]
     },
     "execution_count": 8,
     "metadata": {},
     "output_type": "execute_result"
    }
   ],
   "source": [
    "book_df"
   ]
  }
 ],
 "metadata": {
  "kernelspec": {
   "display_name": "Python 3 (ipykernel)",
   "language": "python",
   "name": "python3"
  },
  "language_info": {
   "codemirror_mode": {
    "name": "ipython",
    "version": 3
   },
   "file_extension": ".py",
   "mimetype": "text/x-python",
   "name": "python",
   "nbconvert_exporter": "python",
   "pygments_lexer": "ipython3",
   "version": "3.11.3"
  }
 },
 "nbformat": 4,
 "nbformat_minor": 5
}
